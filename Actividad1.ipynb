{
  "nbformat": 4,
  "nbformat_minor": 0,
  "metadata": {
    "colab": {
      "provenance": [],
      "collapsed_sections": [],
      "include_colab_link": true
    },
    "kernelspec": {
      "name": "python3",
      "display_name": "Python 3"
    },
    "language_info": {
      "name": "python"
    }
  },
  "cells": [
    {
      "cell_type": "markdown",
      "metadata": {
        "id": "view-in-github",
        "colab_type": "text"
      },
      "source": [
        "<a href=\"https://colab.research.google.com/github/PosgradoMNA/actividades-de-aprendizaje-nicolasmojica/blob/main/Actividad1.ipynb\" target=\"_parent\"><img src=\"https://colab.research.google.com/assets/colab-badge.svg\" alt=\"Open In Colab\"/></a>"
      ]
    },
    {
      "cell_type": "markdown",
      "source": [
        "# ACTIVIDAD 1: IDENTIFICAR FUENTES DE DATOS\n"
      ],
      "metadata": {
        "id": "7sxvDnZLcBry"
      }
    },
    {
      "cell_type": "code",
      "source": [
        "#NOMBRE CONJUNTO DE DATOS:\n",
        "#Inclusión Financiera en Colombia"
      ],
      "metadata": {
        "id": "ygKrRnO9cnJP"
      },
      "execution_count": 5,
      "outputs": []
    },
    {
      "cell_type": "code",
      "source": [
        "#ORGANIZACIÓN QUE LO GENERA:\n",
        "#Superindendencia Financiera de Colombia"
      ],
      "metadata": {
        "id": "Fyl9TfgcqjDD"
      },
      "execution_count": 3,
      "outputs": []
    },
    {
      "cell_type": "code",
      "source": [
        "#ENLACE DE DESCARGA:\n",
        "# https://www.datos.gov.co/Econom-a-y-Finanzas/Inclusi-n-Financiera/kx2f-xjdq/data"
      ],
      "metadata": {
        "id": "oqRL0XXEqu0C"
      },
      "execution_count": 4,
      "outputs": []
    },
    {
      "cell_type": "code",
      "source": [
        "#PREGUNTAS DE INVESTIGACÓN\n",
        "\n",
        "#1 ¿"
      ],
      "metadata": {
        "id": "BWgYwNnTq55T"
      },
      "execution_count": null,
      "outputs": []
    }
  ]
}